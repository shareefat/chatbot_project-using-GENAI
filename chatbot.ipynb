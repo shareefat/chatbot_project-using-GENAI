{
  "nbformat": 4,
  "nbformat_minor": 0,
  "metadata": {
    "colab": {
      "provenance": [],
      "authorship_tag": "ABX9TyMj3n2VbxSCPgnz71EAgxMq"
    },
    "kernelspec": {
      "name": "python3",
      "display_name": "Python 3"
    },
    "language_info": {
      "name": "python"
    }
  },
  "cells": [
    {
      "cell_type": "code",
      "execution_count": 103,
      "metadata": {
        "colab": {
          "base_uri": "https://localhost:8080/"
        },
        "id": "xLPawQXmlEqE",
        "outputId": "7c7d7276-2a1e-438f-d953-924f045cb306"
      },
      "outputs": [
        {
          "output_type": "stream",
          "name": "stderr",
          "text": [
            "[nltk_data] Downloading package punkt to /root/nltk_data...\n",
            "[nltk_data]   Package punkt is already up-to-date!\n",
            "[nltk_data] Downloading package wordnet to /root/nltk_data...\n",
            "[nltk_data]   Package wordnet is already up-to-date!\n"
          ]
        },
        {
          "output_type": "execute_result",
          "data": {
            "text/plain": [
              "True"
            ]
          },
          "metadata": {},
          "execution_count": 103
        }
      ],
      "source": [
        "import nltk\n",
        "import random\n",
        "import numpy as np\n",
        "import string\n",
        "import warnings\n",
        "from sklearn.feature_extraction.text import TfidfVectorizer\n",
        "from sklearn.metrics.pairwise import cosine_similarity\n",
        "from nltk.tokenize import word_tokenize\n",
        "from nltk.corpus import stopwords\n",
        "from nltk.stem import WordNetLemmatizer\n",
        "\n",
        "nltk.download('punkt')\n",
        "nltk.download('wordnet')"
      ]
    },
    {
      "cell_type": "code",
      "source": [
        "chatbot = {\n",
        "    \"hello\" : \"hai how can i help you ?\",\n",
        "    \"What is your Name\" : \"my name is learnscape support\",\n",
        "    \"how are you\": \" iam fine, what about you\",\n",
        "    \"where is taj mahal located\" : \"Taj mahal is located in Agra \",\n",
        "    \"default\" : \"i dont known how to respond this \",\n",
        "    \"what is learnScape\" : \"learn scape is a coding school platform created for students from class 5 on wards.learn scape provide classes on python and C programming.the level of class will different for different students from different students\",\n",
        "    \"what are the course provided\" : \" we provide Python & C programming\"\n",
        "    }"
      ],
      "metadata": {
        "id": "-jyAEMFYmnqC"
      },
      "execution_count": 104,
      "outputs": []
    },
    {
      "cell_type": "code",
      "source": [
        "chatbot[\"what is learnScape\"]"
      ],
      "metadata": {
        "colab": {
          "base_uri": "https://localhost:8080/",
          "height": 52
        },
        "id": "SVUcWksWpYJ6",
        "outputId": "7db33e20-182f-45c0-b3b4-8f76ea484c08"
      },
      "execution_count": 105,
      "outputs": [
        {
          "output_type": "execute_result",
          "data": {
            "text/plain": [
              "'learn scape is a coding school platform created for students from class 5 on wards.learn scape provide classes on python and C programming.the level of class will different for different students from different students'"
            ],
            "application/vnd.google.colaboratory.intrinsic+json": {
              "type": "string"
            }
          },
          "metadata": {},
          "execution_count": 105
        }
      ]
    },
    {
      "cell_type": "code",
      "source": [
        "lemmatizer = WordNetLemmatizer()\n",
        "def preprocess(text):\n",
        "  token = word_tokenize(text.lower())\n",
        "  token = [lemmatizer.lemmatize(word)for word in token if word not in string.punctuation]\n",
        "  return \" \".join(token)\n"
      ],
      "metadata": {
        "id": "EBi3Mk1lqzpW"
      },
      "execution_count": 106,
      "outputs": []
    },
    {
      "cell_type": "code",
      "source": [
        "def get_response(user_input):\n",
        "  user_input = preprocess(user_input)\n",
        "  response = list(chatbot.keys())\n",
        "\n",
        "  #use TF-IDF for finding best Match\n",
        "  vectorizer = TfidfVectorizer()\n",
        "  vectors = vectorizer.fit_transform(response + [user_input])\n",
        "  similarity = cosine_similarity(vectors[-1], vectors[:-1])\n",
        "\n",
        "\n",
        "  best_match = np.argmax(similarity)\n",
        "  if similarity[0][best_match] < 0.2:\n",
        "    return chatbot[\"default\"]\n",
        "  return chatbot[response[best_match]]"
      ],
      "metadata": {
        "id": "0Z7mT778znKi"
      },
      "execution_count": 107,
      "outputs": []
    },
    {
      "cell_type": "code",
      "source": [
        "nltk.download('punkt_tab')\n"
      ],
      "metadata": {
        "colab": {
          "base_uri": "https://localhost:8080/"
        },
        "id": "m-yyMZrqqyrI",
        "outputId": "2b149493-cdcb-4ed3-b144-b5b01b4f0d46"
      },
      "execution_count": 108,
      "outputs": [
        {
          "output_type": "stream",
          "name": "stderr",
          "text": [
            "[nltk_data] Downloading package punkt_tab to /root/nltk_data...\n",
            "[nltk_data]   Package punkt_tab is already up-to-date!\n"
          ]
        },
        {
          "output_type": "execute_result",
          "data": {
            "text/plain": [
              "True"
            ]
          },
          "metadata": {},
          "execution_count": 108
        }
      ]
    },
    {
      "cell_type": "code",
      "source": [
        "def chat():\n",
        "  print(\"welcome to learnscape support , type 'quit' to exit.\")\n",
        "  while True:\n",
        "    user_input = input(\"you : \")\n",
        "    if user_input.lower() == \"quit\":\n",
        "      print(\"learnscape: goodbye\")\n",
        "      break\n",
        "    responses = get_response(user_input)\n",
        "    print(f\"learnscape:{responses}\")\n",
        "chat()"
      ],
      "metadata": {
        "colab": {
          "base_uri": "https://localhost:8080/"
        },
        "id": "hNXJ9WDR0pTp",
        "outputId": "b84ae39b-a7bd-44e3-897a-66b5c824ab55"
      },
      "execution_count": null,
      "outputs": [
        {
          "output_type": "stream",
          "name": "stdout",
          "text": [
            "welcome to learnscape support , type 'quit' to exit.\n",
            "you : hello\n",
            "learnscape:hai how can i help you ?\n"
          ]
        }
      ]
    }
  ]
}